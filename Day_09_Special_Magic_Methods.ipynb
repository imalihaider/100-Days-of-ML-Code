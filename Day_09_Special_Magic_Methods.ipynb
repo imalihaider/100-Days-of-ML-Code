{
 "cells": [
  {
   "cell_type": "code",
   "execution_count": 9,
   "metadata": {
    "collapsed": true,
    "pycharm": {
     "name": "#%%\n"
    }
   },
   "outputs": [
    {
     "name": "stdout",
     "output_type": "stream",
     "text": [
      "(4,5)\n"
     ]
    }
   ],
   "source": [
    "class vector:\n",
    "    def __init__(self,x,y):\n",
    "        self.x=x\n",
    "        self.y=y\n",
    "\n",
    "    def __add__(self, other):\n",
    "        x1=self.x + other.x\n",
    "        y1=self.y + other.y\n",
    "        return vector(x1,y1)\n",
    "\n",
    "    def __str__(self):\n",
    "        return f\"({self.x},{self.y})\"\n",
    "\n",
    "\n",
    "v1=vector(1,2)\n",
    "v2=vector(3,3)\n",
    "\n",
    "\n",
    "v3=v1+v2\n",
    "print(v3)\n"
   ]
  },
  {
   "cell_type": "code",
   "execution_count": null,
   "outputs": [],
   "source": [],
   "metadata": {
    "collapsed": false,
    "pycharm": {
     "name": "#%%\n"
    }
   }
  }
 ],
 "metadata": {
  "kernelspec": {
   "display_name": "Python 3",
   "language": "python",
   "name": "python3"
  },
  "language_info": {
   "codemirror_mode": {
    "name": "ipython",
    "version": 2
   },
   "file_extension": ".py",
   "mimetype": "text/x-python",
   "name": "python",
   "nbconvert_exporter": "python",
   "pygments_lexer": "ipython2",
   "version": "2.7.6"
  }
 },
 "nbformat": 4,
 "nbformat_minor": 0
}