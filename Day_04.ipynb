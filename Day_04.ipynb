{
 "cells": [
  {
   "cell_type": "code",
   "execution_count": 9,
   "metadata": {
    "collapsed": true
   },
   "outputs": [
    {
     "name": "stdout",
     "output_type": "stream",
     "text": [
      "List1 : ['Ali', 'BSE', 'Hamza', 24, 89, 10555]\n",
      "Printing 1st value of list1 : Ali\n",
      "List from 1st to 3rd value: ['Ali', 'BSE', 'Hamza']\n",
      "List from start to end through range indexing : ['Ali', 'BSE', 'Hamza', 24, 89, 10555]\n"
     ]
    }
   ],
   "source": [
    "# Indexing in list\n",
    "list1=['Ali','BSE','Hamza',24,89,10555]\n",
    "print('List1 :',list1)\n",
    "print('Printing 1st value of list1 :',list1[0])\n",
    "print('List from 1st to 3rd value:',list1[0:3])\n",
    "print('List from start to end through range indexing :',list1[:])"
   ]
  },
  {
   "cell_type": "code",
   "execution_count": 21,
   "outputs": [
    {
     "name": "stdout",
     "output_type": "stream",
     "text": [
      "Last value of List1 : 10555\n",
      "Last 3 values of list1 : [24, 89, 10555]\n"
     ]
    }
   ],
   "source": [
    "# Negative Indexing\n",
    "print('Last value of List1 :',list1[-1])\n",
    "print('Last 3 values of list1 :',list1[-3:])"
   ],
   "metadata": {
    "collapsed": false,
    "pycharm": {
     "name": "#%%\n"
    }
   }
  },
  {
   "cell_type": "code",
   "execution_count": null,
   "outputs": [],
   "source": [],
   "metadata": {
    "collapsed": false,
    "pycharm": {
     "name": "#%%\n"
    }
   }
  },
  {
   "cell_type": "code",
   "execution_count": 22,
   "outputs": [
    {
     "name": "stdout",
     "output_type": "stream",
     "text": [
      "List1 : ['Ali', 'BSE', 'Hamza', 24, 89, 10555]\n",
      "Modifying 1st value with \"Haider\":  ['Haider', 'BSE', 'Hamza', 24, 89, 10555]\n"
     ]
    }
   ],
   "source": [
    "# Modifying List\n",
    "print('List1 :',list1)\n",
    "list1[0]=\"Haider\"\n",
    "print('Modifying 1st value \"Ali\" with \"Haider\": ',list1)"
   ],
   "metadata": {
    "collapsed": false,
    "pycharm": {
     "name": "#%%\n"
    }
   }
  },
  {
   "cell_type": "code",
   "execution_count": 30,
   "outputs": [
    {
     "name": "stdout",
     "output_type": "stream",
     "text": [
      "New List2 : [10, 1, 4, 6, 8, 20, 30, 40, 50]\n",
      "Sorting List2 values in Accending order: \n",
      "[1, 4, 6, 8, 10, 20, 30, 40, 50]\n",
      "Sorting List2 values in Deccending order: \n",
      "[50, 40, 30, 20, 10, 8, 6, 4, 1]\n"
     ]
    }
   ],
   "source": [
    "# Sorting Values\n",
    "list2=[10,1,4,6,8,20,30,40,50]\n",
    "print(\"New List2 :\",list2)\n",
    "print(\"Sorting List2 values in Accending order: \")\n",
    "list2.sort()\n",
    "print(list2)\n",
    "print(\"Sorting List2 values in Deccending order: \")\n",
    "list2.sort(reverse=True)\n",
    "print(list2)"
   ],
   "metadata": {
    "collapsed": false,
    "pycharm": {
     "name": "#%%\n"
    }
   }
  },
  {
   "cell_type": "code",
   "execution_count": 35,
   "outputs": [
    {
     "name": "stdout",
     "output_type": "stream",
     "text": [
      "['BSE', 'Haider', 'Hamza', 24, 89, 10555]\n",
      "Checking is Haider is it in the list1 or not ? : True\n"
     ]
    }
   ],
   "source": [
    "# Finding Values\n",
    "print(list1)\n",
    "print(\"Checking is Haider is it in the list1 or not ? :\",\"Haider\" in list1)"
   ],
   "metadata": {
    "collapsed": false,
    "pycharm": {
     "name": "#%%\n"
    }
   }
  },
  {
   "cell_type": "code",
   "execution_count": 49,
   "outputs": [
    {
     "name": "stdout",
     "output_type": "stream",
     "text": [
      "['Spliting', 'into', 'different', 'values']\n"
     ]
    }
   ],
   "source": [
    "# Splitting Values\n",
    "txt = \"Spliting into different values\"\n",
    "x = txt.split()\n",
    "print(x)"
   ],
   "metadata": {
    "collapsed": false,
    "pycharm": {
     "name": "#%%\n"
    }
   }
  }
 ],
 "metadata": {
  "kernelspec": {
   "display_name": "Python 3",
   "language": "python",
   "name": "python3"
  },
  "language_info": {
   "codemirror_mode": {
    "name": "ipython",
    "version": 2
   },
   "file_extension": ".py",
   "mimetype": "text/x-python",
   "name": "python",
   "nbconvert_exporter": "python",
   "pygments_lexer": "ipython2",
   "version": "2.7.6"
  }
 },
 "nbformat": 4,
 "nbformat_minor": 0
}