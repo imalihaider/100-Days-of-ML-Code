{
 "cells": [
  {
   "cell_type": "code",
   "execution_count": 1,
   "metadata": {
    "collapsed": true
   },
   "outputs": [
    {
     "name": "stdout",
     "output_type": "stream",
     "text": [
      "Rover says Woof!\n",
      "Fluffy says Meow!\n",
      "Tweety says Chirp!\n"
     ]
    },
    {
     "ename": "TypeError",
     "evalue": "can only concatenate str (not \"NoneType\") to str",
     "output_type": "error",
     "traceback": [
      "\u001B[1;31m---------------------------------------------------------------------------\u001B[0m",
      "\u001B[1;31mTypeError\u001B[0m                                 Traceback (most recent call last)",
      "Cell \u001B[1;32mIn[1], line 34\u001B[0m\n\u001B[0;32m     32\u001B[0m animal_speak(cat) \n\u001B[0;32m     33\u001B[0m animal_speak(bird) \n\u001B[1;32m---> 34\u001B[0m \u001B[43manimal_speak\u001B[49m\u001B[43m(\u001B[49m\u001B[43mfish\u001B[49m\u001B[43m)\u001B[49m \n",
      "Cell \u001B[1;32mIn[1], line 24\u001B[0m, in \u001B[0;36manimal_speak\u001B[1;34m(animal)\u001B[0m\n\u001B[0;32m     23\u001B[0m \u001B[38;5;28;01mdef\u001B[39;00m \u001B[38;5;21manimal_speak\u001B[39m(animal):\n\u001B[1;32m---> 24\u001B[0m     \u001B[38;5;28mprint\u001B[39m(\u001B[43manimal\u001B[49m\u001B[38;5;241;43m.\u001B[39;49m\u001B[43mname\u001B[49m\u001B[43m \u001B[49m\u001B[38;5;241;43m+\u001B[39;49m\u001B[43m \u001B[49m\u001B[38;5;124;43m\"\u001B[39;49m\u001B[38;5;124;43m says \u001B[39;49m\u001B[38;5;124;43m\"\u001B[39;49m\u001B[43m \u001B[49m\u001B[38;5;241;43m+\u001B[39;49m\u001B[43m \u001B[49m\u001B[43manimal\u001B[49m\u001B[38;5;241;43m.\u001B[39;49m\u001B[43mspeak\u001B[49m\u001B[43m(\u001B[49m\u001B[43m)\u001B[49m)\n",
      "\u001B[1;31mTypeError\u001B[0m: can only concatenate str (not \"NoneType\") to str"
     ]
    }
   ],
   "source": [
    "## This example demonstrates how polymorphism allows different objects to be treated as if they were the same type, even though they have different behaviors. In this case, all of the animals are treated as if they have a speak method, even though only three of them actually implement it.\n",
    "\n",
    "class Animal:\n",
    "    def __init__(self, name):\n",
    "        self.name = name\n",
    "\n",
    "    def speak(self):\n",
    "        pass\n",
    "\n",
    "class Dog(Animal):\n",
    "    def speak(self):\n",
    "        return \"Woof!\"\n",
    "\n",
    "class Cat(Animal):\n",
    "    def speak(self):\n",
    "        return \"Meow!\"\n",
    "\n",
    "class Bird(Animal):\n",
    "    def speak(self):\n",
    "        return \"Chirp!\"\n",
    "\n",
    "class Fish(Animal):\n",
    "    pass\n",
    "\n",
    "def animal_speak(animal):\n",
    "    print(animal.name + \" says \" + animal.speak())\n",
    "\n",
    "dog = Dog(\"Rover\")\n",
    "cat = Cat(\"Fluffy\")\n",
    "bird = Bird(\"Tweety\")\n",
    "fish = Fish(\"Nemo\")\n",
    "\n",
    "animal_speak(dog)\n",
    "animal_speak(cat)\n",
    "animal_speak(bird) \n",
    "animal_speak(fish)\n"
   ]
  }
 ],
 "metadata": {
  "kernelspec": {
   "display_name": "Python 3",
   "language": "python",
   "name": "python3"
  },
  "language_info": {
   "codemirror_mode": {
    "name": "ipython",
    "version": 2
   },
   "file_extension": ".py",
   "mimetype": "text/x-python",
   "name": "python",
   "nbconvert_exporter": "python",
   "pygments_lexer": "ipython2",
   "version": "2.7.6"
  }
 },
 "nbformat": 4,
 "nbformat_minor": 0
}