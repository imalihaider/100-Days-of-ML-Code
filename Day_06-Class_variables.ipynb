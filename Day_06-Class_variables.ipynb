{
 "cells": [
  {
   "cell_type": "code",
   "execution_count": 6,
   "outputs": [
    {
     "name": "stdout",
     "output_type": "stream",
     "text": [
      "0\n",
      "2\n"
     ]
    }
   ],
   "source": [
    "# Baisc class variables practice:\n",
    "class Employee:\n",
    "    no_of_employes=0\n",
    "    def __init__(self, name, email, country):\n",
    "        self.name=name\n",
    "        self.email=email\n",
    "        self.country=country\n",
    "\n",
    "        Employee.no_of_employes += 1\n",
    "\n",
    "\n",
    "\n",
    "print(Employee.no_of_employes)\n",
    "# Employes before employees entry\n",
    "emp1=Employee(\"Haider\",\"a@gmail.com\",\"Pakistan\")\n",
    "emp1=Employee(\"Shane\",\"sysaim@gmail.com\",\"India\")\n",
    "# after employes data it showing the number of employes bescause of the increment\n",
    "print(Employee.no_of_employes)"
   ],
   "metadata": {
    "collapsed": false,
    "pycharm": {
     "name": "#%%\n"
    }
   }
  }
 ],
 "metadata": {
  "kernelspec": {
   "display_name": "Python 3",
   "language": "python",
   "name": "python3"
  },
  "language_info": {
   "codemirror_mode": {
    "name": "ipython",
    "version": 2
   },
   "file_extension": ".py",
   "mimetype": "text/x-python",
   "name": "python",
   "nbconvert_exporter": "python",
   "pygments_lexer": "ipython2",
   "version": "2.7.6"
  }
 },
 "nbformat": 4,
 "nbformat_minor": 0
}