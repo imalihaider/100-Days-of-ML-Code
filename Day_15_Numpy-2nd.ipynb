{
 "cells": [
  {
   "cell_type": "code",
   "execution_count": 11,
   "metadata": {
    "collapsed": true
   },
   "outputs": [],
   "source": [
    "import numpy as np"
   ]
  },
  {
   "cell_type": "code",
   "execution_count": 12,
   "outputs": [
    {
     "name": "stdout",
     "output_type": "stream",
     "text": [
      "[0.  0.1 0.2 0.3 0.4 0.5 0.6 0.7 0.8 0.9 1. ]\n"
     ]
    }
   ],
   "source": [
    "# Creating an array of evenly spaced values between start and end\n",
    "arr12 = np.linspace(0, 1, 11)\n",
    "print(arr12)"
   ],
   "metadata": {
    "collapsed": false,
    "pycharm": {
     "name": "#%%\n"
    }
   }
  },
  {
   "cell_type": "code",
   "execution_count": 3,
   "outputs": [
    {
     "name": "stdout",
     "output_type": "stream",
     "text": [
      "[[9 9 8]\n",
      " [4 4 2]\n",
      " [8 1 7]]\n"
     ]
    }
   ],
   "source": [
    "# Creating an array of random integers between low and high\n",
    "arr13 = np.random.randint(low=0, high=10, size=(3, 3))\n",
    "print(arr13)"
   ],
   "metadata": {
    "collapsed": false,
    "pycharm": {
     "name": "#%%\n"
    }
   }
  },
  {
   "cell_type": "code",
   "execution_count": 4,
   "outputs": [
    {
     "name": "stdout",
     "output_type": "stream",
     "text": [
      "[1 2 3 4 5 6 7 8 9]\n"
     ]
    }
   ],
   "source": [
    "# Flattening a multi-dimensional array to a one-dimensional array\n",
    "arr14 = np.array([[1, 2, 3], [4, 5, 6], [7, 8, 9]])\n",
    "arr14_flat = arr14.flatten()\n",
    "print(arr14_flat)"
   ],
   "metadata": {
    "collapsed": false,
    "pycharm": {
     "name": "#%%\n"
    }
   }
  },
  {
   "cell_type": "code",
   "execution_count": 5,
   "outputs": [
    {
     "name": "stdout",
     "output_type": "stream",
     "text": [
      "[1 2 3 4 5 6]\n"
     ]
    }
   ],
   "source": [
    "# Concatenating arrays horizontally\n",
    "arr15 = np.array([1, 2, 3])\n",
    "arr16 = np.array([4, 5, 6])\n",
    "arr15_16_horizontal = np.hstack((arr15, arr16))\n",
    "print(arr15_16_horizontal)"
   ],
   "metadata": {
    "collapsed": false,
    "pycharm": {
     "name": "#%%\n"
    }
   }
  },
  {
   "cell_type": "code",
   "execution_count": 6,
   "outputs": [
    {
     "name": "stdout",
     "output_type": "stream",
     "text": [
      "[[1]\n",
      " [2]\n",
      " [3]\n",
      " [4]\n",
      " [5]\n",
      " [6]]\n"
     ]
    }
   ],
   "source": [
    "# Concatenating arrays vertically\n",
    "arr17 = np.array([[1], [2], [3]])\n",
    "arr18 = np.array([[4], [5], [6]])\n",
    "arr17_18_vertical = np.vstack((arr17, arr18))\n",
    "print(arr17_18_vertical)"
   ],
   "metadata": {
    "collapsed": false,
    "pycharm": {
     "name": "#%%\n"
    }
   }
  },
  {
   "cell_type": "code",
   "execution_count": 7,
   "outputs": [
    {
     "name": "stdout",
     "output_type": "stream",
     "text": [
      "[1 2 3 1 2]\n"
     ]
    }
   ],
   "source": [
    "# Resizing an array\n",
    "arr19 = np.array([1, 2, 3])\n",
    "arr19_resize = np.resize(arr19, (5,))\n",
    "print(arr19_resize)"
   ],
   "metadata": {
    "collapsed": false,
    "pycharm": {
     "name": "#%%\n"
    }
   }
  },
  {
   "cell_type": "code",
   "execution_count": 8,
   "outputs": [
    {
     "name": "stdout",
     "output_type": "stream",
     "text": [
      "[1 2 3 4 5]\n"
     ]
    }
   ],
   "source": [
    "# Sorting an array\n",
    "arr20 = np.array([3, 2, 1, 5, 4])\n",
    "arr20_sorted = np.sort(arr20)\n",
    "print(arr20_sorted)"
   ],
   "metadata": {
    "collapsed": false,
    "pycharm": {
     "name": "#%%\n"
    }
   }
  },
  {
   "cell_type": "code",
   "execution_count": 9,
   "outputs": [
    {
     "name": "stdout",
     "output_type": "stream",
     "text": [
      "[1 2 3 4 5]\n"
     ]
    }
   ],
   "source": [
    "# Finding unique elements in an array\n",
    "arr21 = np.array([1, 2, 2, 3, 3, 3, 4, 5, 5])\n",
    "arr21_unique = np.unique(arr21)\n",
    "print(arr21_unique)"
   ],
   "metadata": {
    "collapsed": false,
    "pycharm": {
     "name": "#%%\n"
    }
   }
  },
  {
   "cell_type": "code",
   "execution_count": 10,
   "outputs": [
    {
     "name": "stdout",
     "output_type": "stream",
     "text": [
      "5\n",
      "1\n"
     ]
    }
   ],
   "source": [
    "# Finding the maximum and minimum values in an array\n",
    "arr22 = np.array([1, 2, 3, 4, 5])\n",
    "arr22_max = np.max(arr22)\n",
    "arr22_min = np.min(arr22)\n",
    "print(arr22_max)\n",
    "print(arr22_min)"
   ],
   "metadata": {
    "collapsed": false,
    "pycharm": {
     "name": "#%%\n"
    }
   }
  }
 ],
 "metadata": {
  "kernelspec": {
   "display_name": "Python 3",
   "language": "python",
   "name": "python3"
  },
  "language_info": {
   "codemirror_mode": {
    "name": "ipython",
    "version": 2
   },
   "file_extension": ".py",
   "mimetype": "text/x-python",
   "name": "python",
   "nbconvert_exporter": "python",
   "pygments_lexer": "ipython2",
   "version": "2.7.6"
  }
 },
 "nbformat": 4,
 "nbformat_minor": 0
}