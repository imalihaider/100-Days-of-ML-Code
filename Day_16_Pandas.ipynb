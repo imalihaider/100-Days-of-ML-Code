{
 "cells": [
  {
   "cell_type": "code",
   "execution_count": 2,
   "outputs": [],
   "source": [
    "# Import pandas library\n",
    "import pandas as pd"
   ],
   "metadata": {
    "collapsed": false,
    "pycharm": {
     "name": "#%%\n"
    }
   }
  },
  {
   "cell_type": "code",
   "execution_count": 3,
   "outputs": [
    {
     "name": "stdout",
     "output_type": "stream",
     "text": [
      "0    1\n",
      "1    2\n",
      "2    3\n",
      "3    4\n",
      "4    5\n",
      "dtype: int64\n"
     ]
    }
   ],
   "source": [
    "# Data Structures\n",
    "# Series\n",
    "ser = pd.Series([1, 2, 3, 4, 5])\n",
    "print(ser)"
   ],
   "metadata": {
    "collapsed": false,
    "pycharm": {
     "name": "#%%\n"
    }
   }
  },
  {
   "cell_type": "code",
   "execution_count": 4,
   "outputs": [
    {
     "name": "stdout",
     "output_type": "stream",
     "text": [
      "      Name  Age  Salary\n",
      "0    Alice   25   50000\n",
      "1      Bob   30   60000\n",
      "2  Charlie   35   70000\n",
      "3    David   40   80000\n"
     ]
    }
   ],
   "source": [
    "# DataFrame\n",
    "df = pd.DataFrame({\n",
    "    'Name': ['Alice', 'Bob', 'Charlie', 'David'],\n",
    "    'Age': [25, 30, 35, 40],\n",
    "    'Salary': [50000, 60000, 70000, 80000]\n",
    "})\n",
    "print(df)"
   ],
   "metadata": {
    "collapsed": false,
    "pycharm": {
     "name": "#%%\n"
    }
   }
  },
  {
   "cell_type": "code",
   "execution_count": 12,
   "outputs": [],
   "source": [
    "# Reading data from a CSV file\n",
    "df = pd.read_csv('pokemon_data.csv')"
   ],
   "metadata": {
    "collapsed": false,
    "pycharm": {
     "name": "#%%\n"
    }
   }
  },
  {
   "cell_type": "code",
   "execution_count": 11,
   "outputs": [
    {
     "data": {
      "text/plain": "   #                   Name Type 1  Type 2  HP  Attack  Defense  Sp. Atk   \n0  1              Bulbasaur  Grass  Poison  45      49       49       65  \\\n1  2                Ivysaur  Grass  Poison  60      62       63       80   \n2  3               Venusaur  Grass  Poison  80      82       83      100   \n3  3  VenusaurMega Venusaur  Grass  Poison  80     100      123      122   \n4  4             Charmander   Fire     NaN  39      52       43       60   \n\n   Sp. Def  Speed  Generation  Legendary  \n0       65     45           1      False  \n1       80     60           1      False  \n2      100     80           1      False  \n3      120     80           1      False  \n4       50     65           1      False  ",
      "text/html": "<div>\n<style scoped>\n    .dataframe tbody tr th:only-of-type {\n        vertical-align: middle;\n    }\n\n    .dataframe tbody tr th {\n        vertical-align: top;\n    }\n\n    .dataframe thead th {\n        text-align: right;\n    }\n</style>\n<table border=\"1\" class=\"dataframe\">\n  <thead>\n    <tr style=\"text-align: right;\">\n      <th></th>\n      <th>#</th>\n      <th>Name</th>\n      <th>Type 1</th>\n      <th>Type 2</th>\n      <th>HP</th>\n      <th>Attack</th>\n      <th>Defense</th>\n      <th>Sp. Atk</th>\n      <th>Sp. Def</th>\n      <th>Speed</th>\n      <th>Generation</th>\n      <th>Legendary</th>\n    </tr>\n  </thead>\n  <tbody>\n    <tr>\n      <th>0</th>\n      <td>1</td>\n      <td>Bulbasaur</td>\n      <td>Grass</td>\n      <td>Poison</td>\n      <td>45</td>\n      <td>49</td>\n      <td>49</td>\n      <td>65</td>\n      <td>65</td>\n      <td>45</td>\n      <td>1</td>\n      <td>False</td>\n    </tr>\n    <tr>\n      <th>1</th>\n      <td>2</td>\n      <td>Ivysaur</td>\n      <td>Grass</td>\n      <td>Poison</td>\n      <td>60</td>\n      <td>62</td>\n      <td>63</td>\n      <td>80</td>\n      <td>80</td>\n      <td>60</td>\n      <td>1</td>\n      <td>False</td>\n    </tr>\n    <tr>\n      <th>2</th>\n      <td>3</td>\n      <td>Venusaur</td>\n      <td>Grass</td>\n      <td>Poison</td>\n      <td>80</td>\n      <td>82</td>\n      <td>83</td>\n      <td>100</td>\n      <td>100</td>\n      <td>80</td>\n      <td>1</td>\n      <td>False</td>\n    </tr>\n    <tr>\n      <th>3</th>\n      <td>3</td>\n      <td>VenusaurMega Venusaur</td>\n      <td>Grass</td>\n      <td>Poison</td>\n      <td>80</td>\n      <td>100</td>\n      <td>123</td>\n      <td>122</td>\n      <td>120</td>\n      <td>80</td>\n      <td>1</td>\n      <td>False</td>\n    </tr>\n    <tr>\n      <th>4</th>\n      <td>4</td>\n      <td>Charmander</td>\n      <td>Fire</td>\n      <td>NaN</td>\n      <td>39</td>\n      <td>52</td>\n      <td>43</td>\n      <td>60</td>\n      <td>50</td>\n      <td>65</td>\n      <td>1</td>\n      <td>False</td>\n    </tr>\n  </tbody>\n</table>\n</div>"
     },
     "execution_count": 11,
     "metadata": {},
     "output_type": "execute_result"
    }
   ],
   "source": [
    "# Displaying the first 5 rows of the dataframe\n",
    "df.head()"
   ],
   "metadata": {
    "collapsed": false,
    "pycharm": {
     "name": "#%%\n"
    }
   }
  },
  {
   "cell_type": "code",
   "execution_count": 13,
   "outputs": [
    {
     "data": {
      "text/plain": "       #                 Name   Type 1 Type 2  HP  Attack  Defense  Sp. Atk   \n795  719              Diancie     Rock  Fairy  50     100      150      100  \\\n796  719  DiancieMega Diancie     Rock  Fairy  50     160      110      160   \n797  720  HoopaHoopa Confined  Psychic  Ghost  80     110       60      150   \n798  720   HoopaHoopa Unbound  Psychic   Dark  80     160       60      170   \n799  721            Volcanion     Fire  Water  80     110      120      130   \n\n     Sp. Def  Speed  Generation  Legendary  \n795      150     50           6       True  \n796      110    110           6       True  \n797      130     70           6       True  \n798      130     80           6       True  \n799       90     70           6       True  ",
      "text/html": "<div>\n<style scoped>\n    .dataframe tbody tr th:only-of-type {\n        vertical-align: middle;\n    }\n\n    .dataframe tbody tr th {\n        vertical-align: top;\n    }\n\n    .dataframe thead th {\n        text-align: right;\n    }\n</style>\n<table border=\"1\" class=\"dataframe\">\n  <thead>\n    <tr style=\"text-align: right;\">\n      <th></th>\n      <th>#</th>\n      <th>Name</th>\n      <th>Type 1</th>\n      <th>Type 2</th>\n      <th>HP</th>\n      <th>Attack</th>\n      <th>Defense</th>\n      <th>Sp. Atk</th>\n      <th>Sp. Def</th>\n      <th>Speed</th>\n      <th>Generation</th>\n      <th>Legendary</th>\n    </tr>\n  </thead>\n  <tbody>\n    <tr>\n      <th>795</th>\n      <td>719</td>\n      <td>Diancie</td>\n      <td>Rock</td>\n      <td>Fairy</td>\n      <td>50</td>\n      <td>100</td>\n      <td>150</td>\n      <td>100</td>\n      <td>150</td>\n      <td>50</td>\n      <td>6</td>\n      <td>True</td>\n    </tr>\n    <tr>\n      <th>796</th>\n      <td>719</td>\n      <td>DiancieMega Diancie</td>\n      <td>Rock</td>\n      <td>Fairy</td>\n      <td>50</td>\n      <td>160</td>\n      <td>110</td>\n      <td>160</td>\n      <td>110</td>\n      <td>110</td>\n      <td>6</td>\n      <td>True</td>\n    </tr>\n    <tr>\n      <th>797</th>\n      <td>720</td>\n      <td>HoopaHoopa Confined</td>\n      <td>Psychic</td>\n      <td>Ghost</td>\n      <td>80</td>\n      <td>110</td>\n      <td>60</td>\n      <td>150</td>\n      <td>130</td>\n      <td>70</td>\n      <td>6</td>\n      <td>True</td>\n    </tr>\n    <tr>\n      <th>798</th>\n      <td>720</td>\n      <td>HoopaHoopa Unbound</td>\n      <td>Psychic</td>\n      <td>Dark</td>\n      <td>80</td>\n      <td>160</td>\n      <td>60</td>\n      <td>170</td>\n      <td>130</td>\n      <td>80</td>\n      <td>6</td>\n      <td>True</td>\n    </tr>\n    <tr>\n      <th>799</th>\n      <td>721</td>\n      <td>Volcanion</td>\n      <td>Fire</td>\n      <td>Water</td>\n      <td>80</td>\n      <td>110</td>\n      <td>120</td>\n      <td>130</td>\n      <td>90</td>\n      <td>70</td>\n      <td>6</td>\n      <td>True</td>\n    </tr>\n  </tbody>\n</table>\n</div>"
     },
     "execution_count": 13,
     "metadata": {},
     "output_type": "execute_result"
    }
   ],
   "source": [
    "\n",
    "# Displaying the last 5 rows of the dataframe\n",
    "df.tail()"
   ],
   "metadata": {
    "collapsed": false,
    "pycharm": {
     "name": "#%%\n"
    }
   }
  },
  {
   "cell_type": "code",
   "execution_count": 14,
   "outputs": [
    {
     "name": "stdout",
     "output_type": "stream",
     "text": [
      "(800, 12)\n"
     ]
    }
   ],
   "source": [
    "\n",
    "# Displaying the shape of the dataframe\n",
    "print(df.shape)"
   ],
   "metadata": {
    "collapsed": false,
    "pycharm": {
     "name": "#%%\n"
    }
   }
  },
  {
   "cell_type": "code",
   "execution_count": 15,
   "outputs": [
    {
     "name": "stdout",
     "output_type": "stream",
     "text": [
      "Index(['#', 'Name', 'Type 1', 'Type 2', 'HP', 'Attack', 'Defense', 'Sp. Atk',\n",
      "       'Sp. Def', 'Speed', 'Generation', 'Legendary'],\n",
      "      dtype='object')\n"
     ]
    }
   ],
   "source": [
    "# Displaying the columns of the dataframe\n",
    "print(df.columns)"
   ],
   "metadata": {
    "collapsed": false,
    "pycharm": {
     "name": "#%%\n"
    }
   }
  },
  {
   "cell_type": "code",
   "execution_count": 21,
   "outputs": [
    {
     "name": "stdout",
     "output_type": "stream",
     "text": [
      "#              int64\n",
      "Name          object\n",
      "Type 1        object\n",
      "Type 2        object\n",
      "HP             int64\n",
      "Attack         int64\n",
      "Defense        int64\n",
      "Sp. Atk        int64\n",
      "Sp. Def        int64\n",
      "Speed          int64\n",
      "Generation     int64\n",
      "Legendary       bool\n",
      "dtype: object\n"
     ]
    }
   ],
   "source": [
    "\n",
    "# Displaying the data types of the columns\n",
    "print(df.dtypes)"
   ],
   "metadata": {
    "collapsed": false,
    "pycharm": {
     "name": "#%%\n"
    }
   }
  },
  {
   "cell_type": "code",
   "execution_count": 26,
   "outputs": [
    {
     "name": "stdout",
     "output_type": "stream",
     "text": [
      "0       45\n",
      "1       60\n",
      "2       80\n",
      "3       80\n",
      "4       65\n",
      "      ... \n",
      "795     50\n",
      "796    110\n",
      "797     70\n",
      "798     80\n",
      "799     70\n",
      "Name: Speed, Length: 800, dtype: int64\n"
     ]
    }
   ],
   "source": [
    "# Selecting a single column\n",
    "col1 = df['Speed']\n",
    "col2 = df.Speed\n",
    "print(col2)"
   ],
   "metadata": {
    "collapsed": false,
    "pycharm": {
     "name": "#%%\n"
    }
   }
  },
  {
   "cell_type": "code",
   "execution_count": 27,
   "outputs": [
    {
     "name": "stdout",
     "output_type": "stream",
     "text": [
      "      Type 1  Type 2  HP\n",
      "0      Grass  Poison  45\n",
      "1      Grass  Poison  60\n",
      "2      Grass  Poison  80\n",
      "3      Grass  Poison  80\n",
      "4       Fire     NaN  39\n",
      "..       ...     ...  ..\n",
      "795     Rock   Fairy  50\n",
      "796     Rock   Fairy  50\n",
      "797  Psychic   Ghost  80\n",
      "798  Psychic    Dark  80\n",
      "799     Fire   Water  80\n",
      "\n",
      "[800 rows x 3 columns]\n"
     ]
    }
   ],
   "source": [
    "# Selecting multiple columns\n",
    "cols = df[['Type 1', 'Type 2', 'HP']]\n",
    "print(cols)"
   ],
   "metadata": {
    "collapsed": false,
    "pycharm": {
     "name": "#%%\n"
    }
   }
  },
  {
   "cell_type": "code",
   "execution_count": 28,
   "outputs": [
    {
     "name": "stdout",
     "output_type": "stream",
     "text": [
      "       #                   Name   Type 1  Type 2  HP  Attack  Defense   \n",
      "0      1              Bulbasaur    Grass  Poison  45      49       49  \\\n",
      "1      2                Ivysaur    Grass  Poison  60      62       63   \n",
      "2      3               Venusaur    Grass  Poison  80      82       83   \n",
      "3      3  VenusaurMega Venusaur    Grass  Poison  80     100      123   \n",
      "4      4             Charmander     Fire     NaN  39      52       43   \n",
      "..   ...                    ...      ...     ...  ..     ...      ...   \n",
      "795  719                Diancie     Rock   Fairy  50     100      150   \n",
      "796  719    DiancieMega Diancie     Rock   Fairy  50     160      110   \n",
      "797  720    HoopaHoopa Confined  Psychic   Ghost  80     110       60   \n",
      "798  720     HoopaHoopa Unbound  Psychic    Dark  80     160       60   \n",
      "799  721              Volcanion     Fire   Water  80     110      120   \n",
      "\n",
      "     Sp. Atk  Sp. Def  Speed  Generation  Legendary  \n",
      "0         65       65     45           1      False  \n",
      "1         80       80     60           1      False  \n",
      "2        100      100     80           1      False  \n",
      "3        122      120     80           1      False  \n",
      "4         60       50     65           1      False  \n",
      "..       ...      ...    ...         ...        ...  \n",
      "795      100      150     50           6       True  \n",
      "796      160      110    110           6       True  \n",
      "797      150      130     70           6       True  \n",
      "798      170      130     80           6       True  \n",
      "799      130       90     70           6       True  \n",
      "\n",
      "[795 rows x 12 columns]\n"
     ]
    }
   ],
   "source": [
    "# Filtering rows based on a condition\n",
    "filtered_rows = df[df['Speed'] > 10]\n",
    "print(filtered_rows)"
   ],
   "metadata": {
    "collapsed": false,
    "pycharm": {
     "name": "#%%\n"
    }
   }
  },
  {
   "cell_type": "code",
   "execution_count": 29,
   "outputs": [
    {
     "name": "stdout",
     "output_type": "stream",
     "text": [
      "       #       Name    Type 1   Type 2   HP  Attack  Defense  Sp. Atk   \n",
      "0      1  Bulbasaur     Grass   Poison   45      49       49       65  \\\n",
      "106   98     Krabby     Water      NaN   30     105       90       25   \n",
      "107   99    Kingler     Water      NaN   55     130      115       50   \n",
      "108  100    Voltorb  Electric      NaN   40      30       50       55   \n",
      "110  102  Exeggcute     Grass  Psychic   60      40       80       60   \n",
      "..   ...        ...       ...      ...  ...     ...      ...      ...   \n",
      "741  673     Gogoat     Grass      NaN  123     100       62       97   \n",
      "740  672     Skiddo     Grass      NaN   66      65       48       62   \n",
      "739  671    Florges     Fairy      NaN   78      65       68      112   \n",
      "737  669    Flabébé     Fairy      NaN   44      38       39       61   \n",
      "799  721  Volcanion      Fire    Water   80     110      120      130   \n",
      "\n",
      "     Sp. Def  Speed  Generation  Legendary  \n",
      "0         65     45           1      False  \n",
      "106       25     50           1      False  \n",
      "107       50     75           1      False  \n",
      "108       55    100           1      False  \n",
      "110       45     40           1      False  \n",
      "..       ...    ...         ...        ...  \n",
      "741       81     68           6      False  \n",
      "740       57     52           6      False  \n",
      "739      154     75           6      False  \n",
      "737       79     42           6      False  \n",
      "799       90     70           6       True  \n",
      "\n",
      "[800 rows x 12 columns]\n"
     ]
    }
   ],
   "source": [
    "# Sorting the dataframe by a column\n",
    "sorted_df = df.sort_values('Generation')\n",
    "print(sorted_df)"
   ],
   "metadata": {
    "collapsed": false,
    "pycharm": {
     "name": "#%%\n"
    }
   }
  },
  {
   "cell_type": "code",
   "execution_count": 31,
   "outputs": [
    {
     "name": "stdout",
     "output_type": "stream",
     "text": [
      "       Attack     Defense\n",
      "Speed                    \n",
      "5          95  135.000000\n",
      "10        230   77.000000\n",
      "15        430   53.666667\n",
      "20        980   75.666667\n",
      "22         78  103.000000\n",
      "...       ...         ...\n",
      "140       200   70.000000\n",
      "145       330   51.666667\n",
      "150       515   55.000000\n",
      "160        90   45.000000\n",
      "180        95   90.000000\n",
      "\n",
      "[108 rows x 2 columns]\n"
     ]
    }
   ],
   "source": [
    "# Grouping the dataframe by a column and aggregating values\n",
    "grouped_df = df.groupby('Speed').agg({'Attack': 'sum', 'Defense': 'mean'})\n",
    "print(grouped_df)"
   ],
   "metadata": {
    "collapsed": false,
    "pycharm": {
     "name": "#%%\n"
    }
   }
  },
  {
   "cell_type": "code",
   "execution_count": 32,
   "outputs": [
    {
     "name": "stdout",
     "output_type": "stream",
     "text": [
      "       #                   Name   Type 1  Type 2  HP  Attack  Defense   \n",
      "0      1              Bulbasaur    Grass  Poison  45      49       49  \\\n",
      "1      2                Ivysaur    Grass  Poison  60      62       63   \n",
      "2      3               Venusaur    Grass  Poison  80      82       83   \n",
      "3      3  VenusaurMega Venusaur    Grass  Poison  80     100      123   \n",
      "4      4             Charmander     Fire     NaN  39      52       43   \n",
      "..   ...                    ...      ...     ...  ..     ...      ...   \n",
      "795  719                Diancie     Rock   Fairy  50     100      150   \n",
      "796  719    DiancieMega Diancie     Rock   Fairy  50     160      110   \n",
      "797  720    HoopaHoopa Confined  Psychic   Ghost  80     110       60   \n",
      "798  720     HoopaHoopa Unbound  Psychic    Dark  80     160       60   \n",
      "799  721              Volcanion     Fire   Water  80     110      120   \n",
      "\n",
      "     Sp. Atk  Sp. Def  Speed  Generation  Legendary  newwww  \n",
      "0         65       65     45           1      False      98  \n",
      "1         80       80     60           1      False     125  \n",
      "2        100      100     80           1      False     165  \n",
      "3        122      120     80           1      False     223  \n",
      "4         60       50     65           1      False      95  \n",
      "..       ...      ...    ...         ...        ...     ...  \n",
      "795      100      150     50           6       True     250  \n",
      "796      160      110    110           6       True     270  \n",
      "797      150      130     70           6       True     170  \n",
      "798      170      130     80           6       True     220  \n",
      "799      130       90     70           6       True     230  \n",
      "\n",
      "[800 rows x 13 columns]\n"
     ]
    }
   ],
   "source": [
    "# Adding a new column to the dataframe\n",
    "df['newwww'] = df['Attack'] + df['Defense']\n",
    "print(df)"
   ],
   "metadata": {
    "collapsed": false,
    "pycharm": {
     "name": "#%%\n"
    }
   }
  },
  {
   "cell_type": "code",
   "execution_count": 36,
   "outputs": [
    {
     "name": "stdout",
     "output_type": "stream",
     "text": [
      "       #                   Name   Type 1  Type 2  HP  Fight  Defense  Sp. Atk   \n",
      "0      1              Bulbasaur    Grass  Poison  45     49       49       65  \\\n",
      "1      2                Ivysaur    Grass  Poison  60     62       63       80   \n",
      "2      3               Venusaur    Grass  Poison  80     82       83      100   \n",
      "3      3  VenusaurMega Venusaur    Grass  Poison  80    100      123      122   \n",
      "4      4             Charmander     Fire     NaN  39     52       43       60   \n",
      "..   ...                    ...      ...     ...  ..    ...      ...      ...   \n",
      "795  719                Diancie     Rock   Fairy  50    100      150      100   \n",
      "796  719    DiancieMega Diancie     Rock   Fairy  50    160      110      160   \n",
      "797  720    HoopaHoopa Confined  Psychic   Ghost  80    110       60      150   \n",
      "798  720     HoopaHoopa Unbound  Psychic    Dark  80    160       60      170   \n",
      "799  721              Volcanion     Fire   Water  80    110      120      130   \n",
      "\n",
      "     Sp. Def  Speed  Generation  Legendary  newwww  \n",
      "0         65     45           1      False      98  \n",
      "1         80     60           1      False     125  \n",
      "2        100     80           1      False     165  \n",
      "3        120     80           1      False     223  \n",
      "4         50     65           1      False      95  \n",
      "..       ...    ...         ...        ...     ...  \n",
      "795      150     50           6       True     250  \n",
      "796      110    110           6       True     270  \n",
      "797      130     70           6       True     170  \n",
      "798      130     80           6       True     220  \n",
      "799       90     70           6       True     230  \n",
      "\n",
      "[800 rows x 13 columns]\n"
     ]
    }
   ],
   "source": [
    "\n",
    "# Renaming columns\n",
    "df = df.rename(columns={'new_name': 'Fight'})\n",
    "print(df)"
   ],
   "metadata": {
    "collapsed": false,
    "pycharm": {
     "name": "#%%\n"
    }
   }
  },
  {
   "cell_type": "code",
   "execution_count": 37,
   "outputs": [
    {
     "name": "stdout",
     "output_type": "stream",
     "text": [
      "       #                   Name  HP  Fight  Defense  Sp. Atk  Sp. Def  Speed   \n",
      "0      1              Bulbasaur  45     49       49       65       65     45  \\\n",
      "1      2                Ivysaur  60     62       63       80       80     60   \n",
      "2      3               Venusaur  80     82       83      100      100     80   \n",
      "3      3  VenusaurMega Venusaur  80    100      123      122      120     80   \n",
      "4      4             Charmander  39     52       43       60       50     65   \n",
      "..   ...                    ...  ..    ...      ...      ...      ...    ...   \n",
      "795  719                Diancie  50    100      150      100      150     50   \n",
      "796  719    DiancieMega Diancie  50    160      110      160      110    110   \n",
      "797  720    HoopaHoopa Confined  80    110       60      150      130     70   \n",
      "798  720     HoopaHoopa Unbound  80    160       60      170      130     80   \n",
      "799  721              Volcanion  80    110      120      130       90     70   \n",
      "\n",
      "     Generation  Legendary  newwww  \n",
      "0             1      False      98  \n",
      "1             1      False     125  \n",
      "2             1      False     165  \n",
      "3             1      False     223  \n",
      "4             1      False      95  \n",
      "..          ...        ...     ...  \n",
      "795           6       True     250  \n",
      "796           6       True     270  \n",
      "797           6       True     170  \n",
      "798           6       True     220  \n",
      "799           6       True     230  \n",
      "\n",
      "[800 rows x 11 columns]\n"
     ]
    }
   ],
   "source": [
    "# Dropping columns from the dataframe\n",
    "df = df.drop(columns=['Type 1', 'Type 2'])\n",
    "print(df)"
   ],
   "metadata": {
    "collapsed": false,
    "pycharm": {
     "name": "#%%\n"
    }
   }
  },
  {
   "cell_type": "code",
   "execution_count": 38,
   "outputs": [
    {
     "name": "stdout",
     "output_type": "stream",
     "text": [
      "       #                   Name  HP  Fight  Defense  Sp. Atk  Sp. Def  Speed   \n",
      "0      1              Bulbasaur  45     49       49       65       65     45  \\\n",
      "1      2                Ivysaur  60     62       63       80       80     60   \n",
      "2      3               Venusaur  80     82       83      100      100     80   \n",
      "3      3  VenusaurMega Venusaur  80    100      123      122      120     80   \n",
      "4      4             Charmander  39     52       43       60       50     65   \n",
      "..   ...                    ...  ..    ...      ...      ...      ...    ...   \n",
      "795  719                Diancie  50    100      150      100      150     50   \n",
      "796  719    DiancieMega Diancie  50    160      110      160      110    110   \n",
      "797  720    HoopaHoopa Confined  80    110       60      150      130     70   \n",
      "798  720     HoopaHoopa Unbound  80    160       60      170      130     80   \n",
      "799  721              Volcanion  80    110      120      130       90     70   \n",
      "\n",
      "     Generation  Legendary  newwww  \n",
      "0             1      False      98  \n",
      "1             1      False     125  \n",
      "2             1      False     165  \n",
      "3             1      False     223  \n",
      "4             1      False      95  \n",
      "..          ...        ...     ...  \n",
      "795           6       True     250  \n",
      "796           6       True     270  \n",
      "797           6       True     170  \n",
      "798           6       True     220  \n",
      "799           6       True     230  \n",
      "\n",
      "[800 rows x 11 columns]\n"
     ]
    }
   ],
   "source": [
    "# Filling missing values with a default value\n",
    "df = df.fillna(0)\n",
    "print(df)"
   ],
   "metadata": {
    "collapsed": false,
    "pycharm": {
     "name": "#%%\n"
    }
   }
  },
  {
   "cell_type": "code",
   "execution_count": 39,
   "outputs": [
    {
     "name": "stdout",
     "output_type": "stream",
     "text": [
      "       #                   Name  HP  Fight  Defense  Sp. Atk  Sp. Def  Speed   \n",
      "0      1              Bulbasaur  45     49       49       65       65     45  \\\n",
      "1      2                Ivysaur  60     62       63       80       80     60   \n",
      "2      3               Venusaur  80     82       83      100      100     80   \n",
      "3      3  VenusaurMega Venusaur  80    100      123      122      120     80   \n",
      "4      4             Charmander  39     52       43       60       50     65   \n",
      "..   ...                    ...  ..    ...      ...      ...      ...    ...   \n",
      "795  719                Diancie  50    100      150      100      150     50   \n",
      "796  719    DiancieMega Diancie  50    160      110      160      110    110   \n",
      "797  720    HoopaHoopa Confined  80    110       60      150      130     70   \n",
      "798  720     HoopaHoopa Unbound  80    160       60      170      130     80   \n",
      "799  721              Volcanion  80    110      120      130       90     70   \n",
      "\n",
      "     Generation  Legendary  newwww  column1  \n",
      "0             1      False      98       49  \n",
      "1             1      False     125       62  \n",
      "2             1      False     165       82  \n",
      "3             1      False     223      100  \n",
      "4             1      False      95       52  \n",
      "..          ...        ...     ...      ...  \n",
      "795           6       True     250      100  \n",
      "796           6       True     270      160  \n",
      "797           6       True     170      110  \n",
      "798           6       True     220      160  \n",
      "799           6       True     230      110  \n",
      "\n",
      "[800 rows x 12 columns]\n"
     ]
    }
   ],
   "source": [
    "# Replacing values in a column\n",
    "df['column1'] = df['Fight'].replace('old_value', 'new_value')\n",
    "print(df)"
   ],
   "metadata": {
    "collapsed": false,
    "pycharm": {
     "name": "#%%\n"
    }
   }
  },
  {
   "cell_type": "code",
   "execution_count": 41,
   "outputs": [
    {
     "name": "stdout",
     "output_type": "stream",
     "text": [
      "       #                   Name  HP  Fight  Defense  Sp. Atk  Sp. Def  Speed   \n",
      "0      1              Bulbasaur  45     49       49       65       65     45  \\\n",
      "1      2                Ivysaur  60     62       63       80       80     60   \n",
      "2      3               Venusaur  80     82       83      100      100     80   \n",
      "3      3  VenusaurMega Venusaur  80    100      123      122      120     80   \n",
      "4      4             Charmander  39     52       43       60       50     65   \n",
      "..   ...                    ...  ..    ...      ...      ...      ...    ...   \n",
      "795  719                Diancie  50    100      150      100      150     50   \n",
      "796  719    DiancieMega Diancie  50    160      110      160      110    110   \n",
      "797  720    HoopaHoopa Confined  80    110       60      150      130     70   \n",
      "798  720     HoopaHoopa Unbound  80    160       60      170      130     80   \n",
      "799  721              Volcanion  80    110      120      130       90     70   \n",
      "\n",
      "     Generation  Legendary  newwww  column1  new_column  \n",
      "0             1      False      98       49          90  \n",
      "1             1      False     125       62         120  \n",
      "2             1      False     165       82         160  \n",
      "3             1      False     223      100         160  \n",
      "4             1      False      95       52          78  \n",
      "..          ...        ...     ...      ...         ...  \n",
      "795           6       True     250      100         100  \n",
      "796           6       True     270      160         100  \n",
      "797           6       True     170      110         160  \n",
      "798           6       True     220      160         160  \n",
      "799           6       True     230      110         160  \n",
      "\n",
      "[800 rows x 13 columns]\n"
     ]
    }
   ],
   "source": [
    "# Applying a function to a column\n",
    "df['new_column'] = df['HP'].apply(lambda x: x * 2)\n",
    "print(df)"
   ],
   "metadata": {
    "collapsed": false,
    "pycharm": {
     "name": "#%%\n"
    }
   }
  }
 ],
 "metadata": {
  "kernelspec": {
   "display_name": "Python 3",
   "language": "python",
   "name": "python3"
  },
  "language_info": {
   "codemirror_mode": {
    "name": "ipython",
    "version": 2
   },
   "file_extension": ".py",
   "mimetype": "text/x-python",
   "name": "python",
   "nbconvert_exporter": "python",
   "pygments_lexer": "ipython2",
   "version": "2.7.6"
  }
 },
 "nbformat": 4,
 "nbformat_minor": 0
}